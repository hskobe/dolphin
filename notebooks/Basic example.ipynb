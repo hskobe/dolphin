{
 "cells": [
  {
   "cell_type": "markdown",
   "metadata": {},
   "source": [
    "# Simplest use case\n",
    "\n",
    "## Running a model from the config file\n",
    "\n",
    "Setting up the `dolphin` ecosystem:\n",
    "\n",
    "- Install `dolphin`, `lenstronomy`, and the required dependencies.\n",
    "- Create an input/output directory for `dolphin`, we are using \"../io_directory_example\" in this example.\n",
    "- Set up these directories inside the input/output directory. Look inside \"../io_directory_example\" for example. \n",
    "    - **data**: contains subdirectories for each lens system with a data and PSF files for each band.\n",
    "    - **settings**: contains the 'config_{lens_name}.yml' files for each lens system,\n",
    "    - **logs**: to write the log files from model runs,\n",
    "    - **outputs**: to save the model outputs,\n",
    "    - **hpc**: *optional*, contains scripts to submit batch jobs in MPI.\n",
    " \n",
    "\n",
    "   \n",
    "### Data format\n",
    "\n",
    "The image data file needs to be in the hdf5 formate with the following datasets:\n",
    "\n",
    "- `image_data`: reduced and background subtracted image cutout centered at the lens system,\n",
    "- `background_rms`: background level,\n",
    "- `exposure_time`: the map of exposure times for each pixel, so that `image_data * exposure_time` is Poisson noise distributed,\n",
    "- `ra_at_xy_0`: RA of the (0, 0) pixel in the `image_data` cutout,\n",
    "- `dec_at_xy_0`: Dec of the (0, 0) pixel in the `image_data` cutout,\n",
    "- `transform_pix2angle`: a transform matrix to map the pixel numbers (x, y) to angles (RA, Dec).\n",
    "\n",
    "The PSF data file needs to be in the hdf5 format with the following datasets:\n",
    "\n",
    "- `kernel_point_source`: a pixelated PSF (not required to have the same dimension of `image_data`),\n",
    "- `psf_error_map`: *optional*, uncertainty in the provided PSF, needs to have the same dimension of `kernel_point_source`. \n",
    "\n",
    "### Config file format\n",
    "\n",
    "The 'config_{lens_name}.yml' file provides you options to set up the lens model. Here is the content of the config file that is used in the example model below."
   ]
  },
  {
   "cell_type": "raw",
   "metadata": {},
   "source": [
    "---\n",
    "system_name: 'lens_system2'\n",
    "\n",
    "band:\n",
    "  - 'F390W'\n",
    "\n",
    "pixel_size : 0.04\n",
    "\n",
    "model:\n",
    "  lens:\n",
    "    - 'SPEP'\n",
    "    - 'SHEAR_GAMMA_PSI'\n",
    "  lens_light:\n",
    "    - 'SERSIC_ELLIPSE'\n",
    "  source_light:\n",
    "    - 'SHAPELETS'\n",
    "\n",
    "lens_option:\n",
    "  centroid_init: [0.04, -0.04]\n",
    "\n",
    "lens_light_option:\n",
    "  fix: {0: {'n_sersic': 4.}} # fix n_sersic to 4. for 0-th light profile\n",
    "\n",
    "source_light_option:\n",
    "  n_max: [4] # array with n_max for each band\n",
    "\n",
    "fitting:\n",
    "  pso: true\n",
    "  pso_settings:\n",
    "    num_particle: 20\n",
    "    num_iteration: 50\n",
    "    \n",
    "  sampling: true\n",
    "  sampler: 'MCMC'\n",
    "  mcmc_settings:\n",
    "    burnin_step: 0\n",
    "    iteration_step: 100\n",
    "    walker_ratio: 2\n",
    "\n",
    "kwargs_numerics:\n",
    "  supersampling_factor: [2]"
   ]
  },
  {
   "cell_type": "markdown",
   "metadata": {},
   "source": [
    "### create a `Processor` instance and point to the IO directory"
   ]
  },
  {
   "cell_type": "code",
   "execution_count": 1,
   "metadata": {},
   "outputs": [],
   "source": [
    "from dolphin.processor import Processor\n",
    "\n",
    "processor = Processor('../io_directory_example/')"
   ]
  },
  {
   "cell_type": "markdown",
   "metadata": {},
   "source": [
    "### Run a model by calling the  `swim()` method"
   ]
  },
  {
   "cell_type": "code",
   "execution_count": 2,
   "metadata": {
    "scrolled": false
   },
   "outputs": [
    {
     "name": "stdout",
     "output_type": "stream",
     "text": [
      "Computing the PSO ...\n",
      "10\n",
      "20\n",
      "30\n",
      "40\n",
      "50\n",
      "Max iteration reached! Stopping.\n",
      "-1.4122667766269474 reduced X^2 of best position\n",
      "-10146.430656676304 log likelihood\n",
      "14369 effective number of data points\n",
      "[{'theta_E': 1.2486720936802873, 'gamma': 2.0, 'e1': -0.010836279872904194, 'e2': 0.0027505856028065155, 'center_x': 0.04507729787488673, 'center_y': 0.012887660458767543}, {'gamma_ext': 1.7430049671250024e-05, 'psi_ext': 0.09800423813706911, 'ra_0': 0, 'dec_0': 0}] lens result\n",
      "[{'amp': 1, 'n_max': 4, 'beta': 0.10567485171811598, 'center_x': 0.08300082262701894, 'center_y': -0.2608960464929205}] source result\n",
      "[{'amp': 1, 'R_sersic': 1.1702050258030843, 'n_sersic': 4.0, 'e1': -0.01818066498020119, 'e2': 0.05000250312340953, 'center_x': 0.030223411575640253, 'center_y': -0.06058162182267721}] lens light result\n",
      "[] point source result\n",
      "{} special param result\n",
      "107.9222400188446 time used for  PSO\n",
      "===================\n",
      "Computing the PSO ...\n",
      "10\n",
      "20\n",
      "30\n",
      "40\n",
      "50\n",
      "Max iteration reached! Stopping.\n",
      "-1.330704054776778 reduced X^2 of best position\n",
      "-9560.443281543761 log likelihood\n",
      "14369 effective number of data points\n",
      "[{'theta_E': 1.2370480637159211, 'gamma': 2.0, 'e1': -0.013349384618604054, 'e2': 0.001197907818746004, 'center_x': 0.05192418977647615, 'center_y': -0.0007964678553414829}, {'gamma_ext': 6.269227256666518e-06, 'psi_ext': 0.09432437849614675, 'ra_0': 0, 'dec_0': 0}] lens result\n",
      "[{'amp': 1, 'n_max': 4, 'beta': 0.10581629134490265, 'center_x': 0.06898913010531547, 'center_y': -0.2507598322949983}] source result\n",
      "[{'amp': 1, 'R_sersic': 1.28318228403328, 'n_sersic': 4.0, 'e1': -0.06376239867532985, 'e2': 0.030554824242220075, 'center_x': 0.02988574612599158, 'center_y': -0.05957340411744895}] lens light result\n",
      "[] point source result\n",
      "{} special param result\n",
      "111.71346306800842 time used for  PSO\n",
      "===================\n",
      "Computing the PSO ...\n",
      "10\n",
      "20\n",
      "30\n",
      "40\n",
      "50\n",
      "Max iteration reached! Stopping.\n",
      "-1.1903531716689286 reduced X^2 of best position\n",
      "-8552.092361855417 log likelihood\n",
      "14369 effective number of data points\n",
      "[{'theta_E': 1.236316480932342, 'gamma': 2.0, 'e1': -0.01199639732535574, 'e2': 0.0074373144530874465, 'center_x': 0.051219072856000934, 'center_y': -0.004594777306401144}, {'gamma_ext': 4.063285758279277e-05, 'psi_ext': 0.11069219081967852, 'ra_0': 0, 'dec_0': 0}] lens result\n",
      "[{'amp': 1, 'n_max': 4, 'beta': 0.10577847370256221, 'center_x': 0.06393716663400739, 'center_y': -0.24519059522169095}] source result\n",
      "[{'amp': 1, 'R_sersic': 1.7022555031870945, 'n_sersic': 4.0, 'e1': -0.07992863468248684, 'e2': 0.02844315893427933, 'center_x': 0.027247918137996447, 'center_y': -0.05636333992808366}] lens light result\n",
      "[] point source result\n",
      "{} special param result\n",
      "115.84308409690857 time used for  PSO\n",
      "===================\n",
      "Computing the PSO ...\n",
      "10\n",
      "20\n",
      "30\n",
      "40\n",
      "50\n",
      "Max iteration reached! Stopping.\n",
      "-1.1727208812353709 reduced X^2 of best position\n",
      "-8424.826810794904 log likelihood\n",
      "14368 effective number of data points\n",
      "[{'theta_E': 1.2353200814371648, 'gamma': 1.997788912862128, 'e1': -0.013933741203984312, 'e2': 0.004175295437522817, 'center_x': 0.04969070979644773, 'center_y': 0.007703576047865972}, {'gamma_ext': 6.540374693112459e-07, 'psi_ext': 0.11234731922790159, 'ra_0': 0, 'dec_0': 0}] lens result\n",
      "[{'amp': 1, 'n_max': 4, 'beta': 0.10551018171457785, 'center_x': 0.07045767173362003, 'center_y': -0.2556139066410487}] source result\n",
      "[{'amp': 1, 'R_sersic': 1.7432592289756386, 'n_sersic': 4.0, 'e1': -0.08295783741763763, 'e2': 0.01605427218236066, 'center_x': 0.029955449933145167, 'center_y': -0.052907545055132545}] lens light result\n",
      "[] point source result\n",
      "{} special param result\n",
      "126.65000486373901 time used for  PSO\n",
      "===================\n",
      "Computing the PSO ...\n",
      "10\n",
      "20\n",
      "30\n",
      "40\n",
      "50\n",
      "Max iteration reached! Stopping.\n",
      "-1.0706931330148008 reduced X^2 of best position\n",
      "-7691.859467578329 log likelihood\n",
      "14368 effective number of data points\n",
      "[{'theta_E': 1.2326657426185088, 'gamma': 1.9963391224196114, 'e1': -0.013846075635031693, 'e2': 0.004119913434851978, 'center_x': 0.05079704426883658, 'center_y': -0.0063444308225923726}, {'gamma_ext': 0.00014049431404824673, 'psi_ext': 0.11234364892687294, 'ra_0': 0, 'dec_0': 0}] lens result\n",
      "[{'amp': 1, 'n_max': 4, 'beta': 0.1056163780387113, 'center_x': 0.07222367172700978, 'center_y': -0.24649670500850127}] source result\n",
      "[{'amp': 1, 'R_sersic': 3.0030972378938046, 'n_sersic': 4.0, 'e1': -0.09726546302089019, 'e2': 0.005089783555674085, 'center_x': 0.030948963281702973, 'center_y': -0.052753675088819084}] lens light result\n",
      "[] point source result\n",
      "{} special param result\n",
      "159.8507981300354 time used for  PSO\n",
      "===================\n",
      "Computing the PSO ...\n",
      "10\n",
      "20\n",
      "30\n",
      "40\n",
      "50\n",
      "Max iteration reached! Stopping.\n",
      "-1.0604091906215831 reduced X^2 of best position\n",
      "-7617.9796254254525 log likelihood\n",
      "14368 effective number of data points\n",
      "[{'theta_E': 1.235720066348226, 'gamma': 2.040501734209057, 'e1': -0.015780059850267814, 'e2': 0.00529367261890768, 'center_x': 0.03438373735086512, 'center_y': -0.006593354390794355}, {'gamma_ext': 0.00034909187275277765, 'psi_ext': 0.11266389837353667, 'ra_0': 0, 'dec_0': 0}] lens result\n",
      "[{'amp': 1, 'n_max': 4, 'beta': 0.1054794916663018, 'center_x': 0.05627597824071812, 'center_y': -0.26554782279842576}] source result\n",
      "[{'amp': 1, 'R_sersic': 2.99807704582348, 'n_sersic': 4.0, 'e1': -0.09471969414375109, 'e2': 0.020568781810273613, 'center_x': 0.029858123811216247, 'center_y': -0.05100347809921317}] lens light result\n",
      "[] point source result\n",
      "{} special param result\n",
      "162.8429310321808 time used for  PSO\n",
      "===================\n"
     ]
    },
    {
     "name": "stderr",
     "output_type": "stream",
     "text": [
      "100%|██████████| 100/100 [11:33<00:00,  6.94s/it] \n"
     ]
    },
    {
     "name": "stdout",
     "output_type": "stream",
     "text": [
      "Computing the MCMC...\n",
      "Number of walkers =  32\n",
      "Burn-in iterations:  0\n",
      "Sampling iterations (in current run): 100\n",
      "698.7187950611115 time taken for MCMC sampling\n"
     ]
    }
   ],
   "source": [
    "processor.swim(lens_name='lens_system2', model_id='example', log=False)"
   ]
  },
  {
   "cell_type": "markdown",
   "metadata": {},
   "source": [
    "## Let's check the output"
   ]
  },
  {
   "cell_type": "code",
   "execution_count": 3,
   "metadata": {},
   "outputs": [],
   "source": [
    "from dolphin.analysis.output import Output\n",
    "\n",
    "output = Output('../io_directory_example/')"
   ]
  },
  {
   "cell_type": "code",
   "execution_count": 4,
   "metadata": {},
   "outputs": [
    {
     "ename": "TypeError",
     "evalue": "__init__() got an unexpected keyword argument 'likelihood_mask_list'",
     "output_type": "error",
     "traceback": [
      "\u001b[0;31m---------------------------------------------------------------------------\u001b[0m",
      "\u001b[0;31mTypeError\u001b[0m                                 Traceback (most recent call last)",
      "Cell \u001b[0;32mIn [4], line 1\u001b[0m\n\u001b[0;32m----> 1\u001b[0m fig \u001b[39m=\u001b[39m output\u001b[39m.\u001b[39;49mplot_model_overview(lens_name\u001b[39m=\u001b[39;49m\u001b[39m'\u001b[39;49m\u001b[39mlens_system2\u001b[39;49m\u001b[39m'\u001b[39;49m, model_id\u001b[39m=\u001b[39;49m\u001b[39m'\u001b[39;49m\u001b[39mexample\u001b[39;49m\u001b[39m'\u001b[39;49m)\n",
      "File \u001b[0;32m~/packages/dolphin/dolphin/analysis/output.py:248\u001b[0m, in \u001b[0;36mOutput.plot_model_overview\u001b[0;34m(self, lens_name, model_id, kwargs_result, band_index, data_cmap, residual_cmap, convergence_cmap, magnification_cmap, v_min, v_max, print_results)\u001b[0m\n\u001b[1;32m    245\u001b[0m     \u001b[39mprint\u001b[39m(print_kwargs_result)\n\u001b[1;32m    247\u001b[0m \u001b[39mif\u001b[39;00m v_max \u001b[39mis\u001b[39;00m \u001b[39mNone\u001b[39;00m:\n\u001b[0;32m--> 248\u001b[0m     model_plot, v_max \u001b[39m=\u001b[39m \u001b[39mself\u001b[39;49m\u001b[39m.\u001b[39;49mget_model_plot(\n\u001b[1;32m    249\u001b[0m                                          lens_name,\n\u001b[1;32m    250\u001b[0m                                          model_id\u001b[39m=\u001b[39;49mmodel_id,\n\u001b[1;32m    251\u001b[0m                                          kwargs_result\u001b[39m=\u001b[39;49mkwargs_result,\n\u001b[1;32m    252\u001b[0m                                          band_index\u001b[39m=\u001b[39;49mband_index,\n\u001b[1;32m    253\u001b[0m                                          data_cmap\u001b[39m=\u001b[39;49mdata_cmap)\n\u001b[1;32m    254\u001b[0m \u001b[39melse\u001b[39;00m:\n\u001b[1;32m    255\u001b[0m     model_plot \u001b[39m=\u001b[39m \u001b[39mself\u001b[39m\u001b[39m.\u001b[39mget_model_plot(lens_name,\n\u001b[1;32m    256\u001b[0m                                      model_id\u001b[39m=\u001b[39mmodel_id,\n\u001b[1;32m    257\u001b[0m                                      kwargs_result\u001b[39m=\u001b[39mkwargs_result,\n\u001b[1;32m    258\u001b[0m                                      band_index\u001b[39m=\u001b[39mband_index,\n\u001b[1;32m    259\u001b[0m                                      data_cmap\u001b[39m=\u001b[39mdata_cmap)[\u001b[39m0\u001b[39m]\n",
      "File \u001b[0;32m~/packages/dolphin/dolphin/analysis/output.py:194\u001b[0m, in \u001b[0;36mOutput.get_model_plot\u001b[0;34m(self, lens_name, model_id, kwargs_result, band_index, data_cmap)\u001b[0m\n\u001b[1;32m    189\u001b[0m kwargs_model \u001b[39m=\u001b[39m config\u001b[39m.\u001b[39mget_kwargs_model()\n\u001b[1;32m    191\u001b[0m v_max \u001b[39m=\u001b[39m np\u001b[39m.\u001b[39mlog10(\n\u001b[1;32m    192\u001b[0m     multi_band_list_out[band_index][\u001b[39m0\u001b[39m][\u001b[39m'\u001b[39m\u001b[39mimage_data\u001b[39m\u001b[39m'\u001b[39m]\u001b[39m.\u001b[39mmax())\n\u001b[0;32m--> 194\u001b[0m model_plot \u001b[39m=\u001b[39m ModelPlot(multi_band_list_out, kwargs_model,\n\u001b[1;32m    195\u001b[0m                        kwargs_result,\n\u001b[1;32m    196\u001b[0m                        arrow_size\u001b[39m=\u001b[39;49m\u001b[39m0.02\u001b[39;49m, cmap_string\u001b[39m=\u001b[39;49mdata_cmap,\n\u001b[1;32m    197\u001b[0m                        likelihood_mask_list\u001b[39m=\u001b[39;49mmask,\n\u001b[1;32m    198\u001b[0m                        multi_band_type\u001b[39m=\u001b[39;49m\u001b[39m'\u001b[39;49m\u001b[39mmulti-linear\u001b[39;49m\u001b[39m'\u001b[39;49m)\n\u001b[1;32m    200\u001b[0m \u001b[39mreturn\u001b[39;00m model_plot, v_max\n",
      "\u001b[0;31mTypeError\u001b[0m: __init__() got an unexpected keyword argument 'likelihood_mask_list'"
     ]
    }
   ],
   "source": [
    "fig = output.plot_model_overview(lens_name='lens_system2', model_id='example')"
   ]
  },
  {
   "cell_type": "markdown",
   "metadata": {},
   "source": [
    "We only ran a pre-sampling optimization here and did not perform a MCMC sampling. So, the above model is the optimized model that the MCMC sample can initiate from. The `kwargs_result` dictionary of the pre-sampling optimization step can be accessed through `Output.kwargs_result` after loading an output using the `Output.load_output()` method."
   ]
  },
  {
   "cell_type": "code",
   "execution_count": null,
   "metadata": {},
   "outputs": [
    {
     "data": {
      "text/plain": [
       "{'kwargs_lens': [{'theta_E': 1.2326899640213018,\n",
       "   'gamma': 1.998918057975498,\n",
       "   'e1': 0.023771532230263397,\n",
       "   'e2': 0.007322808057297473,\n",
       "   'center_x': 0.07425521322394245,\n",
       "   'center_y': -0.21335353495417878},\n",
       "  {'gamma_ext': 0.004831374500885104,\n",
       "   'psi_ext': -0.07328085140675819,\n",
       "   'ra_0': 0,\n",
       "   'dec_0': 0}],\n",
       " 'kwargs_source': [{'amp': 1,\n",
       "   'n_max': 4,\n",
       "   'beta': 0.1472201512075073,\n",
       "   'center_x': 0.07919321428442905,\n",
       "   'center_y': -0.2524963794337973}],\n",
       " 'kwargs_lens_light': [{'amp': 1,\n",
       "   'R_sersic': 2.703115633851944,\n",
       "   'n_sersic': 4.0,\n",
       "   'e1': -0.11964362032082303,\n",
       "   'e2': 0.000947148809756073,\n",
       "   'center_x': 0.024595750787618078,\n",
       "   'center_y': -0.053359526560273124}],\n",
       " 'kwargs_ps': [],\n",
       " 'kwargs_special': {},\n",
       " 'kwargs_extinction': []}"
      ]
     },
     "execution_count": 5,
     "metadata": {},
     "output_type": "execute_result"
    }
   ],
   "source": [
    "output.load_output(lens_name='lens_system2', model_id='example')\n",
    "\n",
    "output.kwargs_result"
   ]
  },
  {
   "cell_type": "markdown",
   "metadata": {},
   "source": [
    "When necessary, the settings of the model run---that was read out of the 'config_{lens_name}.yml' file---can be accessed through the `output.model_settings` variable."
   ]
  },
  {
   "cell_type": "code",
   "execution_count": null,
   "metadata": {},
   "outputs": [
    {
     "data": {
      "text/plain": [
       "{'system_name': 'lens_system2',\n",
       " 'band': ['F390W'],\n",
       " 'pixel_size': 0.04,\n",
       " 'model': {'lens': ['SPEP', 'SHEAR_GAMMA_PSI'],\n",
       "  'lens_light': ['SERSIC_ELLIPSE'],\n",
       "  'source_light': ['SHAPELETS']},\n",
       " 'lens_option': {'centroid_init': [0.04, -0.04]},\n",
       " 'lens_light_option': {'fix': {'0': {'n_sersic': 4.0}}},\n",
       " 'source_light_option': {'n_max': [4]},\n",
       " 'fitting': {'pso': True,\n",
       "  'pso_settings': {'num_particle': 20, 'num_iteration': 50},\n",
       "  'sampling': True,\n",
       "  'sampler': 'MCMC',\n",
       "  'mcmc_settings': {'burnin_step': 0,\n",
       "   'iteration_step': 100,\n",
       "   'walker_ratio': 2}},\n",
       " 'numeric_option': {'supersampling_factor': [2]}}"
      ]
     },
     "execution_count": 6,
     "metadata": {},
     "output_type": "execute_result"
    }
   ],
   "source": [
    "output.model_settings"
   ]
  },
  {
   "cell_type": "code",
   "execution_count": null,
   "metadata": {},
   "outputs": [],
   "source": []
  }
 ],
 "metadata": {
  "kernelspec": {
   "display_name": "Python 3.9.13 ('base')",
   "language": "python",
   "name": "python3"
  },
  "language_info": {
   "codemirror_mode": {
    "name": "ipython",
    "version": 3
   },
   "file_extension": ".py",
   "mimetype": "text/x-python",
   "name": "python",
   "nbconvert_exporter": "python",
   "pygments_lexer": "ipython3",
   "version": "3.9.13"
  },
  "vscode": {
   "interpreter": {
    "hash": "3865d0cb63030e7f0dc977b947e0361d13ca7b4f5f7c79ba86571fbb87f89e1f"
   }
  }
 },
 "nbformat": 4,
 "nbformat_minor": 4
}
