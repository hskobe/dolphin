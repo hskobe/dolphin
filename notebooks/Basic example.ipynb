{
 "cells": [
  {
   "cell_type": "markdown",
   "metadata": {},
   "source": [
    "# Simplest use case\n",
    "\n",
    "## Running a model from the config file\n",
    "\n",
    "Setting up the `dolphin` ecosystem:\n",
    "\n",
    "- Install `dolphin`, `lenstronomy`, and the required dependencies.\n",
    "- Create an input/output directory for `dolphin`, we are using \"../io_directory_example\" in this example.\n",
    "- Set up these directories inside the input/output directory. Look inside \"../io_directory_example\" for example. \n",
    "    - **data**: contains subdirectories for each lens system with a data and PSF files for each band.\n",
    "    - **settings**: contains the 'config_{lens_name}.yml' files for each lens system,\n",
    "    - **logs**: to write the log files from model runs,\n",
    "    - **outputs**: to save the model outputs,\n",
    "    - **hpc**: *optional*, contains scripts to submit batch jobs in MPI.\n",
    " \n",
    "\n",
    "   \n",
    "### Data format\n",
    "\n",
    "The image data file needs to be in the hdf5 formate with the following datasets:\n",
    "\n",
    "- `image_data`: reduced and background subtracted image cutout centered at the lens system,\n",
    "- `background_rms`: background level,\n",
    "- `exposure_time`: the map of exposure times for each pixel, so that `image_data * exposure_time` is Poisson noise distributed,\n",
    "- `ra_at_xy_0`: RA of the (0, 0) pixel in the `image_data` cutout,\n",
    "- `dec_at_xy_0`: Dec of the (0, 0) pixel in the `image_data` cutout,\n",
    "- `transform_pix2angle`: a transform matrix to map the pixel numbers (x, y) to angles (RA, Dec).\n",
    "\n",
    "The PSF data file needs to be in the hdf5 format with the following datasets:\n",
    "\n",
    "- `kernel_point_source`: a pixelated PSF (not required to have the same dimension of `image_data`),\n",
    "- `psf_error_map`: *optional*, uncertainty in the provided PSF, needs to have the same dimension of `kernel_point_source`. \n",
    "\n",
    "### Config file format\n",
    "\n",
    "The 'config_{lens_name}.yml' file provides you options to set up the lens model. Here is the content of the config file that is used in the example model below."
   ]
  },
  {
   "cell_type": "raw",
   "metadata": {},
   "source": [
    "---\n",
    "system_name: 'lens_system2'\n",
    "\n",
    "band:\n",
    "  - 'F390W'\n",
    "\n",
    "pixel_size : 0.04\n",
    "\n",
    "model:\n",
    "  lens:\n",
    "    - 'SPEP'\n",
    "    - 'SHEAR_GAMMA_PSI'\n",
    "  lens_light:\n",
    "    - 'SERSIC_ELLIPSE'\n",
    "  source_light:\n",
    "    - 'SHAPELETS'\n",
    "\n",
    "lens_option:\n",
    "  centroid_init: [0.04, -0.04]\n",
    "\n",
    "lens_light_option:\n",
    "  fix: {0: {'n_sersic': 4.}} # fix n_sersic to 4. for 0-th light profile\n",
    "\n",
    "source_light_option:\n",
    "  n_max: [4] # array with n_max for each band\n",
    "\n",
    "fitting:\n",
    "  pso: true\n",
    "  pso_settings:\n",
    "    num_particle: 20\n",
    "    num_iteration: 50\n",
    "    \n",
    "  sampling: true\n",
    "  sampler: 'MCMC'\n",
    "  mcmc_settings:\n",
    "    burnin_step: 0\n",
    "    iteration_step: 100\n",
    "    walker_ratio: 2\n",
    "\n",
    "kwargs_numerics:\n",
    "  supersampling_factor: [2]"
   ]
  },
  {
   "cell_type": "markdown",
   "metadata": {},
   "source": [
    "### create a `Processor` instance and point to the IO directory"
   ]
  },
  {
   "cell_type": "code",
   "execution_count": 1,
   "metadata": {},
   "outputs": [],
   "source": [
    "# from dolphin.processor import Processor\n",
    "\n",
    "# processor = Processor('../io_directory_example/')"
   ]
  },
  {
   "cell_type": "markdown",
   "metadata": {},
   "source": [
    "### Run a model by calling the  `swim()` method"
   ]
  },
  {
   "cell_type": "code",
   "execution_count": 2,
   "metadata": {
    "scrolled": false
   },
   "outputs": [],
   "source": [
    "# processor.swim(lens_name='DESJ0537-4647', model_id='example', log=False)"
   ]
  },
  {
   "cell_type": "markdown",
   "metadata": {},
   "source": [
    "## Let's check the output"
   ]
  },
  {
   "cell_type": "code",
   "execution_count": 3,
   "metadata": {},
   "outputs": [],
   "source": [
    "from dolphin.analysis.output import Output\n",
    "\n",
    "output = Output('../io_directory_example/')"
   ]
  },
  {
   "cell_type": "code",
   "execution_count": 8,
   "metadata": {},
   "outputs": [
    {
     "ename": "IndexError",
     "evalue": "boolean index did not match indexed array along dimension 0; dimension is 19600 but corresponding boolean dimension is 7744",
     "output_type": "error",
     "traceback": [
      "\u001b[0;31m---------------------------------------------------------------------------\u001b[0m",
      "\u001b[0;31mIndexError\u001b[0m                                Traceback (most recent call last)",
      "Cell \u001b[0;32mIn [8], line 1\u001b[0m\n\u001b[0;32m----> 1\u001b[0m fig \u001b[39m=\u001b[39m output\u001b[39m.\u001b[39;49mplot_model_overview(lens_name\u001b[39m=\u001b[39;49m\u001b[39m'\u001b[39;49m\u001b[39mDESJ0537-4647\u001b[39;49m\u001b[39m'\u001b[39;49m, model_id\u001b[39m=\u001b[39;49m\u001b[39m'\u001b[39;49m\u001b[39mF140W_Run01\u001b[39;49m\u001b[39m'\u001b[39;49m)\n",
      "File \u001b[0;32m~/packages/dolphin/dolphin/analysis/output.py:248\u001b[0m, in \u001b[0;36mOutput.plot_model_overview\u001b[0;34m(self, lens_name, model_id, kwargs_result, band_index, data_cmap, residual_cmap, convergence_cmap, magnification_cmap, v_min, v_max, print_results)\u001b[0m\n\u001b[1;32m    245\u001b[0m     \u001b[39mprint\u001b[39m(print_kwargs_result)\n\u001b[1;32m    247\u001b[0m \u001b[39mif\u001b[39;00m v_max \u001b[39mis\u001b[39;00m \u001b[39mNone\u001b[39;00m:\n\u001b[0;32m--> 248\u001b[0m     model_plot, v_max \u001b[39m=\u001b[39m \u001b[39mself\u001b[39;49m\u001b[39m.\u001b[39;49mget_model_plot(\n\u001b[1;32m    249\u001b[0m                                          lens_name,\n\u001b[1;32m    250\u001b[0m                                          model_id\u001b[39m=\u001b[39;49mmodel_id,\n\u001b[1;32m    251\u001b[0m                                          kwargs_result\u001b[39m=\u001b[39;49mkwargs_result,\n\u001b[1;32m    252\u001b[0m                                          band_index\u001b[39m=\u001b[39;49mband_index,\n\u001b[1;32m    253\u001b[0m                                          data_cmap\u001b[39m=\u001b[39;49mdata_cmap)\n\u001b[1;32m    254\u001b[0m \u001b[39melse\u001b[39;00m:\n\u001b[1;32m    255\u001b[0m     model_plot \u001b[39m=\u001b[39m \u001b[39mself\u001b[39m\u001b[39m.\u001b[39mget_model_plot(lens_name,\n\u001b[1;32m    256\u001b[0m                                      model_id\u001b[39m=\u001b[39mmodel_id,\n\u001b[1;32m    257\u001b[0m                                      kwargs_result\u001b[39m=\u001b[39mkwargs_result,\n\u001b[1;32m    258\u001b[0m                                      band_index\u001b[39m=\u001b[39mband_index,\n\u001b[1;32m    259\u001b[0m                                      data_cmap\u001b[39m=\u001b[39mdata_cmap)[\u001b[39m0\u001b[39m]\n",
      "File \u001b[0;32m~/packages/dolphin/dolphin/analysis/output.py:194\u001b[0m, in \u001b[0;36mOutput.get_model_plot\u001b[0;34m(self, lens_name, model_id, kwargs_result, band_index, data_cmap)\u001b[0m\n\u001b[1;32m    189\u001b[0m kwargs_model \u001b[39m=\u001b[39m config\u001b[39m.\u001b[39mget_kwargs_model()\n\u001b[1;32m    191\u001b[0m v_max \u001b[39m=\u001b[39m np\u001b[39m.\u001b[39mlog10(\n\u001b[1;32m    192\u001b[0m     multi_band_list_out[band_index][\u001b[39m0\u001b[39m][\u001b[39m'\u001b[39m\u001b[39mimage_data\u001b[39m\u001b[39m'\u001b[39m]\u001b[39m.\u001b[39mmax())\n\u001b[0;32m--> 194\u001b[0m model_plot \u001b[39m=\u001b[39m ModelPlot(multi_band_list_out, kwargs_model,\n\u001b[1;32m    195\u001b[0m                        kwargs_result,\n\u001b[1;32m    196\u001b[0m                        arrow_size\u001b[39m=\u001b[39;49m\u001b[39m0.02\u001b[39;49m, cmap_string\u001b[39m=\u001b[39;49mdata_cmap,\n\u001b[1;32m    197\u001b[0m                        image_likelihood_mask_list\u001b[39m=\u001b[39;49mmask, \u001b[39m# edited from 'likelihood_mask_list'\u001b[39;49;00m\n\u001b[1;32m    198\u001b[0m                        multi_band_type\u001b[39m=\u001b[39;49m\u001b[39m'\u001b[39;49m\u001b[39mmulti-linear\u001b[39;49m\u001b[39m'\u001b[39;49m)\n\u001b[1;32m    200\u001b[0m \u001b[39mreturn\u001b[39;00m model_plot, v_max\n",
      "File \u001b[0;32m~/packages/lenstronomy/lenstronomy/Plots/model_plot.py:54\u001b[0m, in \u001b[0;36mModelPlot.__init__\u001b[0;34m(self, multi_band_list, kwargs_model, kwargs_params, image_likelihood_mask_list, bands_compute, multi_band_type, source_marg, linear_prior, arrow_size, cmap_string, fast_caustic, linear_solver)\u001b[0m\n\u001b[1;32m     49\u001b[0m \u001b[39mself\u001b[39m\u001b[39m.\u001b[39m_imageModel \u001b[39m=\u001b[39m class_creator\u001b[39m.\u001b[39mcreate_im_sim(multi_band_list, multi_band_type, kwargs_model,\n\u001b[1;32m     50\u001b[0m                                                bands_compute\u001b[39m=\u001b[39mbands_compute, linear_solver\u001b[39m=\u001b[39mlinear_solver,\n\u001b[1;32m     51\u001b[0m                                                image_likelihood_mask_list\u001b[39m=\u001b[39mimage_likelihood_mask_list)\n\u001b[1;32m     53\u001b[0m kwargs_params_copy \u001b[39m=\u001b[39m copy\u001b[39m.\u001b[39mdeepcopy(kwargs_params)\n\u001b[0;32m---> 54\u001b[0m model, error_map, cov_param, param \u001b[39m=\u001b[39m \u001b[39mself\u001b[39;49m\u001b[39m.\u001b[39;49m_imageModel\u001b[39m.\u001b[39;49mimage_linear_solve(inv_bool\u001b[39m=\u001b[39;49m\u001b[39mTrue\u001b[39;49;00m, \u001b[39m*\u001b[39;49m\u001b[39m*\u001b[39;49mkwargs_params_copy)\n\u001b[1;32m     56\u001b[0m \u001b[39mif\u001b[39;00m linear_solver \u001b[39mis\u001b[39;00m \u001b[39mFalse\u001b[39;00m:\n\u001b[1;32m     57\u001b[0m     \u001b[39mif\u001b[39;00m \u001b[39mlen\u001b[39m(multi_band_list) \u001b[39m>\u001b[39m \u001b[39m1\u001b[39m:\n",
      "File \u001b[0;32m~/packages/lenstronomy/lenstronomy/ImSim/MultiBand/multi_linear.py:65\u001b[0m, in \u001b[0;36mMultiLinear.image_linear_solve\u001b[0;34m(self, kwargs_lens, kwargs_source, kwargs_lens_light, kwargs_ps, kwargs_extinction, kwargs_special, inv_bool)\u001b[0m\n\u001b[1;32m     63\u001b[0m \u001b[39mfor\u001b[39;00m i \u001b[39min\u001b[39;00m \u001b[39mrange\u001b[39m(\u001b[39mself\u001b[39m\u001b[39m.\u001b[39m_num_bands):\n\u001b[1;32m     64\u001b[0m     \u001b[39mif\u001b[39;00m \u001b[39mself\u001b[39m\u001b[39m.\u001b[39m_compute_bool[i] \u001b[39mis\u001b[39;00m \u001b[39mTrue\u001b[39;00m:\n\u001b[0;32m---> 65\u001b[0m         wls_model, error_map, cov_param, param \u001b[39m=\u001b[39m \u001b[39mself\u001b[39;49m\u001b[39m.\u001b[39;49m_imageModel_list[i]\u001b[39m.\u001b[39;49mimage_linear_solve(kwargs_lens,\n\u001b[1;32m     66\u001b[0m                                                                                              kwargs_source,\n\u001b[1;32m     67\u001b[0m                                                                                              kwargs_lens_light,\n\u001b[1;32m     68\u001b[0m                                                                                              kwargs_ps,\n\u001b[1;32m     69\u001b[0m                                                                                              kwargs_extinction,\n\u001b[1;32m     70\u001b[0m                                                                                              kwargs_special,\n\u001b[1;32m     71\u001b[0m                                                                                              inv_bool\u001b[39m=\u001b[39;49minv_bool)\n\u001b[1;32m     72\u001b[0m     \u001b[39melse\u001b[39;00m:\n\u001b[1;32m     73\u001b[0m         wls_model, error_map, cov_param, param \u001b[39m=\u001b[39m \u001b[39mNone\u001b[39;00m, \u001b[39mNone\u001b[39;00m, \u001b[39mNone\u001b[39;00m, \u001b[39mNone\u001b[39;00m\n",
      "File \u001b[0;32m~/packages/lenstronomy/lenstronomy/ImSim/MultiBand/single_band_multi_model.py:86\u001b[0m, in \u001b[0;36mSingleBandMultiModel.image_linear_solve\u001b[0;34m(self, kwargs_lens, kwargs_source, kwargs_lens_light, kwargs_ps, kwargs_extinction, kwargs_special, inv_bool)\u001b[0m\n\u001b[1;32m     71\u001b[0m \u001b[39m\"\"\"\u001b[39;00m\n\u001b[1;32m     72\u001b[0m \u001b[39mcomputes the image (lens and source surface brightness with a given lens model).\u001b[39;00m\n\u001b[1;32m     73\u001b[0m \u001b[39mThe linear parameters are computed with a weighted linear least square optimization (i.e. flux normalization of the brightness profiles)\u001b[39;00m\n\u001b[0;32m   (...)\u001b[0m\n\u001b[1;32m     79\u001b[0m \u001b[39m:return: 1d array of surface brightness pixels of the optimal solution of the linear parameters to match the data\u001b[39;00m\n\u001b[1;32m     80\u001b[0m \u001b[39m\"\"\"\u001b[39;00m\n\u001b[1;32m     81\u001b[0m kwargs_lens_i, kwargs_source_i, kwargs_lens_light_i, kwargs_ps_i, kwargs_extinction_i \u001b[39m=\u001b[39m \u001b[39mself\u001b[39m\u001b[39m.\u001b[39mselect_kwargs(kwargs_lens,\n\u001b[1;32m     82\u001b[0m                                                                                       kwargs_source,\n\u001b[1;32m     83\u001b[0m                                                                                       kwargs_lens_light,\n\u001b[1;32m     84\u001b[0m                                                                                       kwargs_ps,\n\u001b[1;32m     85\u001b[0m                                                                                       kwargs_extinction)\n\u001b[0;32m---> 86\u001b[0m wls_model, error_map, cov_param, param \u001b[39m=\u001b[39m \u001b[39mself\u001b[39;49m\u001b[39m.\u001b[39;49m_image_linear_solve(kwargs_lens_i, kwargs_source_i,\n\u001b[1;32m     87\u001b[0m                                                                   kwargs_lens_light_i, kwargs_ps_i,\n\u001b[1;32m     88\u001b[0m                                                                   kwargs_extinction_i, kwargs_special, inv_bool\u001b[39m=\u001b[39;49minv_bool)\n\u001b[1;32m     89\u001b[0m \u001b[39mreturn\u001b[39;00m wls_model, error_map, cov_param, param\n",
      "File \u001b[0;32m~/packages/lenstronomy/lenstronomy/ImSim/image_linear_solve.py:92\u001b[0m, in \u001b[0;36mImageLinearFit._image_linear_solve\u001b[0;34m(self, kwargs_lens, kwargs_source, kwargs_lens_light, kwargs_ps, kwargs_extinction, kwargs_special, inv_bool)\u001b[0m\n\u001b[1;32m     88\u001b[0m     model, model_error, cov_param, param \u001b[39m=\u001b[39m \u001b[39mself\u001b[39m\u001b[39m.\u001b[39mimage_pixelbased_solve(kwargs_lens, kwargs_source, \n\u001b[1;32m     89\u001b[0m                                                                        kwargs_lens_light, kwargs_ps, \n\u001b[1;32m     90\u001b[0m                                                                        kwargs_extinction, kwargs_special)\n\u001b[1;32m     91\u001b[0m \u001b[39melse\u001b[39;00m:\n\u001b[0;32m---> 92\u001b[0m     A \u001b[39m=\u001b[39m \u001b[39mself\u001b[39;49m\u001b[39m.\u001b[39;49m_linear_response_matrix(kwargs_lens, kwargs_source, kwargs_lens_light, kwargs_ps, kwargs_extinction, kwargs_special)\n\u001b[1;32m     93\u001b[0m     C_D_response, model_error \u001b[39m=\u001b[39m \u001b[39mself\u001b[39m\u001b[39m.\u001b[39m_error_response(kwargs_lens, kwargs_ps, kwargs_special\u001b[39m=\u001b[39mkwargs_special)\n\u001b[1;32m     94\u001b[0m     d \u001b[39m=\u001b[39m \u001b[39mself\u001b[39m\u001b[39m.\u001b[39mdata_response\n",
      "File \u001b[0;32m~/packages/lenstronomy/lenstronomy/ImSim/image_linear_solve.py:298\u001b[0m, in \u001b[0;36mImageLinearFit._linear_response_matrix\u001b[0;34m(self, kwargs_lens, kwargs_source, kwargs_lens_light, kwargs_ps, kwargs_extinction, kwargs_special, unconvolved)\u001b[0m\n\u001b[1;32m    296\u001b[0m     image \u001b[39m*\u001b[39m\u001b[39m=\u001b[39m extinction\n\u001b[1;32m    297\u001b[0m     image \u001b[39m=\u001b[39m \u001b[39mself\u001b[39m\u001b[39m.\u001b[39mImageNumerics\u001b[39m.\u001b[39mre_size_convolve(image, unconvolved\u001b[39m=\u001b[39munconvolved)\n\u001b[0;32m--> 298\u001b[0m     A[n, :] \u001b[39m=\u001b[39m np\u001b[39m.\u001b[39mnan_to_num(\u001b[39mself\u001b[39;49m\u001b[39m.\u001b[39;49mimage2array_masked(image), copy\u001b[39m=\u001b[39m\u001b[39mFalse\u001b[39;00m)\n\u001b[1;32m    299\u001b[0m     n \u001b[39m+\u001b[39m\u001b[39m=\u001b[39m \u001b[39m1\u001b[39m\n\u001b[1;32m    300\u001b[0m \u001b[39m# response of deflector light profile (or any other un-lensed extended components)\u001b[39;00m\n",
      "File \u001b[0;32m~/packages/lenstronomy/lenstronomy/ImSim/image_linear_solve.py:423\u001b[0m, in \u001b[0;36mImageLinearFit.image2array_masked\u001b[0;34m(self, image)\u001b[0m\n\u001b[1;32m    417\u001b[0m \u001b[39m\"\"\"\u001b[39;00m\n\u001b[1;32m    418\u001b[0m \u001b[39mreturns 1d array of values in image that are not masked out for the likelihood computation/linear minimization\u001b[39;00m\n\u001b[1;32m    419\u001b[0m \u001b[39m:param image: 2d numpy array of full image\u001b[39;00m\n\u001b[1;32m    420\u001b[0m \u001b[39m:return: 1d array\u001b[39;00m\n\u001b[1;32m    421\u001b[0m \u001b[39m\"\"\"\u001b[39;00m\n\u001b[1;32m    422\u001b[0m array \u001b[39m=\u001b[39m util\u001b[39m.\u001b[39mimage2array(image)\n\u001b[0;32m--> 423\u001b[0m \u001b[39mreturn\u001b[39;00m array[\u001b[39mself\u001b[39;49m\u001b[39m.\u001b[39;49m_mask1d]\n",
      "\u001b[0;31mIndexError\u001b[0m: boolean index did not match indexed array along dimension 0; dimension is 19600 but corresponding boolean dimension is 7744"
     ]
    }
   ],
   "source": [
    "fig = output.plot_model_overview(lens_name='DESJ0537-4647', model_id='F140W_Run01')"
   ]
  },
  {
   "cell_type": "markdown",
   "metadata": {},
   "source": [
    "We only ran a pre-sampling optimization here and did not perform a MCMC sampling. So, the above model is the optimized model that the MCMC sample can initiate from. The `kwargs_result` dictionary of the pre-sampling optimization step can be accessed through `Output.kwargs_result` after loading an output using the `Output.load_output()` method."
   ]
  },
  {
   "cell_type": "code",
   "execution_count": 5,
   "metadata": {},
   "outputs": [
    {
     "data": {
      "text/plain": [
       "{'kwargs_lens': [{'theta_E': 1.993402210977581,\n",
       "   'gamma': 2.0,\n",
       "   'e1': -0.2155160936437417,\n",
       "   'e2': -0.044826373357606406,\n",
       "   'center_x': -0.003495513553335139,\n",
       "   'center_y': 0.011476362249842897},\n",
       "  {'gamma_ext': 0.001, 'psi_ext': 0.0, 'ra_0': 0, 'dec_0': 0}],\n",
       " 'kwargs_source': [{'amp': 1,\n",
       "   'n_max': 6,\n",
       "   'beta': 0.13633238309699788,\n",
       "   'center_x': -0.6420948518655116,\n",
       "   'center_y': -0.04549991473155932},\n",
       "  {'amp': 1,\n",
       "   'R_sersic': 0.2383504761257381,\n",
       "   'n_sersic': 4.0,\n",
       "   'e1': 0.4999983801387821,\n",
       "   'e2': 0.057534724817228496,\n",
       "   'center_x': -0.6420948518655116,\n",
       "   'center_y': -0.04549991473155932}],\n",
       " 'kwargs_lens_light': [{'amp': 1,\n",
       "   'R_sersic': 0.753825412620007,\n",
       "   'n_sersic': 4.0,\n",
       "   'e1': -0.13410888851815445,\n",
       "   'e2': 0.01090414742079265,\n",
       "   'center_x': -0.003495513553335139,\n",
       "   'center_y': 0.011476362249842897},\n",
       "  {'amp': 1,\n",
       "   'R_sersic': 3.1631283578619054,\n",
       "   'n_sersic': 1.0,\n",
       "   'e1': -0.13410888851815445,\n",
       "   'e2': 0.01090414742079265,\n",
       "   'center_x': -0.003495513553335139,\n",
       "   'center_y': 0.011476362249842897}],\n",
       " 'kwargs_ps': [],\n",
       " 'kwargs_special': {},\n",
       " 'kwargs_extinction': []}"
      ]
     },
     "execution_count": 5,
     "metadata": {},
     "output_type": "execute_result"
    }
   ],
   "source": [
    "output.load_output(lens_name='DESJ0537-4647', model_id='F140W_Run01')\n",
    "\n",
    "output.kwargs_result"
   ]
  },
  {
   "cell_type": "markdown",
   "metadata": {},
   "source": [
    "When necessary, the settings of the model run---that was read out of the 'config_{lens_name}.yml' file---can be accessed through the `output.model_settings` variable."
   ]
  },
  {
   "cell_type": "code",
   "execution_count": 6,
   "metadata": {},
   "outputs": [
    {
     "data": {
      "text/plain": [
       "{'band': ['F140W'],\n",
       " 'fitting': {'mcmc_settings': {'burnin_step': 0,\n",
       "   'iteration_step': 2000,\n",
       "   'walker_ratio': 16},\n",
       "  'psf_iteration': False,\n",
       "  'psf_iteration_settings': {'block_neighbor': 0.0,\n",
       "   'psf_iteration_factor': 0.5,\n",
       "   'psf_iteration_num': 50,\n",
       "   'psf_symmetry': 4},\n",
       "  'pso': True,\n",
       "  'pso_settings': {'num_iteration': 248, 'num_particle': 250},\n",
       "  'sampler': 'MCMC',\n",
       "  'sampling': False},\n",
       " 'guess_params': {'lens': {'0': {'theta_E': 1.9965223041493796}}},\n",
       " 'kwargs_constraints': {'joint_lens_light_with_lens_light': [[0,\n",
       "    1,\n",
       "    ['e1', 'e2', 'center_x', 'center_y']]],\n",
       "  'joint_lens_with_light': [[0, 0, ['center_x', 'center_y']]],\n",
       "  'joint_source_with_source': [[0, 1, ['center_x', 'center_y']]]},\n",
       " 'lens_light_option': {'fix': {'0': {'n_sersic': 4.0},\n",
       "   '1': {'n_sersic': 1.0}}},\n",
       " 'lens_option': {'centroid_init': [0.0, 0.0],\n",
       "  'constrain_position_angle_from_lens_light': 15},\n",
       " 'mask': {'centroid_offset': [[0.04910000000000003, 0.1451]],\n",
       "  'custom_mask': [None],\n",
       "  'dec_at_xy_0': [-4.790514149878125],\n",
       "  'extra_regions': [[[0.6491, 0.1451, 0.2]]],\n",
       "  'ra_at_xy_0': [-1.3580918951110028],\n",
       "  'radius': [3.1],\n",
       "  'size': [88],\n",
       "  'transform_matrix': [[[-0.03899692, 0.06986264], [0.06989827, 0.03897705]]]},\n",
       " 'model': {'lens': ['PEMD', 'SHEAR_GAMMA_PSI'],\n",
       "  'lens_light': ['SERSIC_ELLIPSE', 'SERSIC_ELLIPSE'],\n",
       "  'lens_light_band_indices': [0, 0],\n",
       "  'point_source': [],\n",
       "  'source_light': ['SHAPELETS', 'SERSIC_ELLIPSE'],\n",
       "  'source_light_band_indices': [0, 0]},\n",
       " 'numeric_option': {'supersampling_factor': [2]},\n",
       " 'pixel_size': 0.05,\n",
       " 'point_source_option': {'bound': 0.0, 'dec_init': [], 'ra_init': []},\n",
       " 'source_light_option': {'fix': {'1': {'n_sersic': 4.0}},\n",
       "  'n_max': [6],\n",
       "  'shapelet_scale_logarithmic_prior': True},\n",
       " 'system_name': 'DESJ0537-4647'}"
      ]
     },
     "execution_count": 6,
     "metadata": {},
     "output_type": "execute_result"
    }
   ],
   "source": [
    "output.model_settings"
   ]
  },
  {
   "cell_type": "code",
   "execution_count": null,
   "metadata": {},
   "outputs": [],
   "source": []
  }
 ],
 "metadata": {
  "kernelspec": {
   "display_name": "Python 3.9.13 ('base')",
   "language": "python",
   "name": "python3"
  },
  "language_info": {
   "codemirror_mode": {
    "name": "ipython",
    "version": 3
   },
   "file_extension": ".py",
   "mimetype": "text/x-python",
   "name": "python",
   "nbconvert_exporter": "python",
   "pygments_lexer": "ipython3",
   "version": "3.9.13"
  },
  "vscode": {
   "interpreter": {
    "hash": "3865d0cb63030e7f0dc977b947e0361d13ca7b4f5f7c79ba86571fbb87f89e1f"
   }
  }
 },
 "nbformat": 4,
 "nbformat_minor": 4
}
