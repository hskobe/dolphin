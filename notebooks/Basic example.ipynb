{
 "cells": [
  {
   "cell_type": "markdown",
   "metadata": {},
   "source": [
    "# Simplest use case\n",
    "\n",
    "## Running a model from the config file\n",
    "\n",
    "Setting up the `dolphin` ecosystem:\n",
    "\n",
    "- Install `dolphin`, `lenstronomy`, and the required dependencies.\n",
    "- Create an input/output directory for `dolphin`, we are using \"../io_directory_example\" in this example.\n",
    "- Set up these directories inside the input/output directory. Look inside \"../io_directory_example\" for example. \n",
    "    - **data**: contains subdirectories for each lens system with a data and PSF files for each band.\n",
    "    - **settings**: contains the 'config_{lens_name}.yml' files for each lens system,\n",
    "    - **logs**: to write the log files from model runs,\n",
    "    - **outputs**: to save the model outputs,\n",
    "    - **hpc**: *optional*, contains scripts to submit batch jobs in MPI.\n",
    " \n",
    "\n",
    "   \n",
    "### Data format\n",
    "\n",
    "The image data file needs to be in the hdf5 formate with the following datasets:\n",
    "\n",
    "- `image_data`: reduced and background subtracted image cutout centered at the lens system,\n",
    "- `background_rms`: background level,\n",
    "- `exposure_time`: the map of exposure times for each pixel, so that `image_data * exposure_time` is Poisson noise distributed,\n",
    "- `ra_at_xy_0`: RA of the (0, 0) pixel in the `image_data` cutout,\n",
    "- `dec_at_xy_0`: Dec of the (0, 0) pixel in the `image_data` cutout,\n",
    "- `transform_pix2angle`: a transform matrix to map the pixel numbers (x, y) to angles (RA, Dec).\n",
    "\n",
    "The PSF data file needs to be in the hdf5 format with the following datasets:\n",
    "\n",
    "- `kernel_point_source`: a pixelated PSF (not required to have the same dimension of `image_data`),\n",
    "- `psf_error_map`: *optional*, uncertainty in the provided PSF, needs to have the same dimension of `kernel_point_source`. \n",
    "\n",
    "### Config file format\n",
    "\n",
    "The 'config_{lens_name}.yml' file provides you options to set up the lens model. Here is the content of the config file that is used in the example model below."
   ]
  },
  {
   "cell_type": "raw",
   "metadata": {},
   "source": [
    "---\n",
    "system_name: 'lens_system2'\n",
    "\n",
    "band:\n",
    "  - 'F390W'\n",
    "\n",
    "pixel_size : 0.04\n",
    "\n",
    "model:\n",
    "  lens:\n",
    "    - 'SPEP'\n",
    "    - 'SHEAR_GAMMA_PSI'\n",
    "  lens_light:\n",
    "    - 'SERSIC_ELLIPSE'\n",
    "  source_light:\n",
    "    - 'SHAPELETS'\n",
    "\n",
    "lens_option:\n",
    "  centroid_init: [0.04, -0.04]\n",
    "\n",
    "lens_light_option:\n",
    "  fix: {0: {'n_sersic': 4.}} # fix n_sersic to 4. for 0-th light profile\n",
    "\n",
    "source_light_option:\n",
    "  n_max: [4] # array with n_max for each band\n",
    "\n",
    "fitting:\n",
    "  pso: true\n",
    "  pso_settings:\n",
    "    num_particle: 20\n",
    "    num_iteration: 50\n",
    "    \n",
    "  sampling: true\n",
    "  sampler: 'MCMC'\n",
    "  mcmc_settings:\n",
    "    burnin_step: 0\n",
    "    iteration_step: 100\n",
    "    walker_ratio: 2\n",
    "\n",
    "kwargs_numerics:\n",
    "  supersampling_factor: [2]"
   ]
  },
  {
   "cell_type": "markdown",
   "metadata": {},
   "source": [
    "### create a `Processor` instance and point to the IO directory"
   ]
  },
  {
   "cell_type": "code",
   "execution_count": null,
   "metadata": {},
   "outputs": [],
   "source": [
    "# from dolphin.processor import Processor\n",
    "\n",
    "# processor = Processor('../io_directory_example/')"
   ]
  },
  {
   "cell_type": "markdown",
   "metadata": {},
   "source": [
    "### Run a model by calling the  `swim()` method"
   ]
  },
  {
   "cell_type": "code",
   "execution_count": null,
   "metadata": {
    "scrolled": false
   },
   "outputs": [],
   "source": [
    "# processor.swim(lens_name='DESJ0537-4647-0010', model_id='AllFilters_Run01', recipe_name='galaxy-galaxy')"
   ]
  },
  {
   "cell_type": "markdown",
   "metadata": {},
   "source": [
    "## Let's check the output"
   ]
  },
  {
   "cell_type": "code",
   "execution_count": null,
   "metadata": {},
   "outputs": [],
   "source": [
    "# from dolphin.analysis.output import Output\n",
    "\n",
    "# output = Output('../io_directory_example/')"
   ]
  },
  {
   "attachments": {},
   "cell_type": "markdown",
   "metadata": {},
   "source": [
    "### DESJ0537-4647, All Filters, F140W 0.08\" & F200LP 0.05\""
   ]
  },
  {
   "cell_type": "code",
   "execution_count": null,
   "metadata": {},
   "outputs": [],
   "source": [
    "# fig = output.plot_model_source(lens_name='DESJ0537-4647', model_id='AllFilters_Run01', band_index=0)"
   ]
  },
  {
   "cell_type": "code",
   "execution_count": null,
   "metadata": {},
   "outputs": [],
   "source": [
    "# fig = output.plot_model_source(lens_name='DESJ0537-4647', model_id='AllFilters_Run01', band_index=1)"
   ]
  },
  {
   "cell_type": "code",
   "execution_count": null,
   "metadata": {},
   "outputs": [],
   "source": [
    "# fig = output.plot_model_overview(lens_name='DESJ0537-4647-0008', model_id='AllFilters_Run01', band_index=0)"
   ]
  },
  {
   "cell_type": "code",
   "execution_count": null,
   "metadata": {},
   "outputs": [],
   "source": [
    "# fig = output.plot_model_overview(lens_name='DESJ0537-4647-0008', model_id='AllFilters_Run01', band_index=1)"
   ]
  },
  {
   "cell_type": "code",
   "execution_count": null,
   "metadata": {},
   "outputs": [],
   "source": [
    "# output.load_output(lens_name='DESJ0537-4647', model_id='AllFilters_Run01')"
   ]
  },
  {
   "cell_type": "code",
   "execution_count": null,
   "metadata": {},
   "outputs": [],
   "source": [
    "# output.plot_mcmc_trace(lens_name='DESJ0537-4647-0008', model_id='AllFilters_Run01', walker_ratio=8)"
   ]
  },
  {
   "attachments": {},
   "cell_type": "markdown",
   "metadata": {},
   "source": [
    "### DESJ0537-4647, All Filters, F140W 0.13\" & F200LP 0.05\""
   ]
  },
  {
   "cell_type": "code",
   "execution_count": null,
   "metadata": {},
   "outputs": [],
   "source": [
    "# fig = output.plot_model_overview(lens_name='DESJ0537-4647-0013', model_id='AllFilters_Run01', band_index=0)"
   ]
  },
  {
   "cell_type": "code",
   "execution_count": null,
   "metadata": {},
   "outputs": [],
   "source": [
    "# fig = output.plot_model_overview(lens_name='DESJ0537-4647-0013', model_id='AllFilters_Run01', band_index=1)"
   ]
  },
  {
   "cell_type": "code",
   "execution_count": null,
   "metadata": {},
   "outputs": [],
   "source": [
    "# output.load_output(lens_name='DESJ0537-4647-0013', model_id='AllFilters_Run01')"
   ]
  },
  {
   "cell_type": "code",
   "execution_count": null,
   "metadata": {},
   "outputs": [],
   "source": [
    "# output.plot_mcmc_trace(lens_name='DESJ0537-4647', model_id='AllFilters_0.13_Run01', walker_ratio=8)"
   ]
  },
  {
   "attachments": {},
   "cell_type": "markdown",
   "metadata": {},
   "source": [
    "### DESJ0006-4429"
   ]
  },
  {
   "attachments": {},
   "cell_type": "markdown",
   "metadata": {},
   "source": [
    "##### All Filters"
   ]
  },
  {
   "cell_type": "code",
   "execution_count": null,
   "metadata": {},
   "outputs": [],
   "source": [
    "# fig = output.plot_model_overview(lens_name='DESJ0006-4429', model_id='AllFilters_Run01', band_index=0)"
   ]
  },
  {
   "cell_type": "code",
   "execution_count": null,
   "metadata": {},
   "outputs": [],
   "source": [
    "# fig = output.plot_model_overview(lens_name='DESJ0006-4429', model_id='AllFilters_Run01', band_index=1)"
   ]
  },
  {
   "cell_type": "code",
   "execution_count": null,
   "metadata": {},
   "outputs": [],
   "source": [
    "# output.load_output(lens_name='DESJ0006-4429', model_id='AllFilters_Run01')"
   ]
  },
  {
   "attachments": {},
   "cell_type": "markdown",
   "metadata": {},
   "source": [
    "##### F200LP, 0.05\""
   ]
  },
  {
   "cell_type": "code",
   "execution_count": null,
   "metadata": {},
   "outputs": [],
   "source": [
    "# fig = output.plot_model_overview(lens_name='DESJ0006-4429', model_id='F200LP_Run01', band_index=0)"
   ]
  },
  {
   "cell_type": "code",
   "execution_count": null,
   "metadata": {},
   "outputs": [],
   "source": [
    "# output.load_output(lens_name='DESJ0006-4429', model_id='F200LP_Run01')"
   ]
  },
  {
   "attachments": {},
   "cell_type": "markdown",
   "metadata": {},
   "source": [
    "##### F140W, 0.08\""
   ]
  },
  {
   "cell_type": "code",
   "execution_count": null,
   "metadata": {},
   "outputs": [],
   "source": [
    "# fig = output.plot_model_overview(lens_name='DESJ0006-4429', model_id='F140W_Run01', band_index=0)"
   ]
  },
  {
   "cell_type": "code",
   "execution_count": null,
   "metadata": {},
   "outputs": [],
   "source": [
    "# output.load_output(lens_name='DESJ0006-4429', model_id='F140W_Run01')"
   ]
  },
  {
   "attachments": {},
   "cell_type": "markdown",
   "metadata": {},
   "source": [
    "## Notebook notes"
   ]
  },
  {
   "attachments": {},
   "cell_type": "markdown",
   "metadata": {},
   "source": [
    "We only ran a pre-sampling optimization here and did not perform a MCMC sampling. So, the above model is the optimized model that the MCMC sample can initiate from. The `kwargs_result` dictionary of the pre-sampling optimization step can be accessed through `Output.kwargs_result` after loading an output using the `Output.load_output()` method."
   ]
  },
  {
   "cell_type": "code",
   "execution_count": null,
   "metadata": {},
   "outputs": [],
   "source": [
    "# output.load_output(lens_name='DESJ0537-4647', model_id='AllFilters_0.13_Run01')\n",
    "\n",
    "# output.kwargs_result"
   ]
  },
  {
   "cell_type": "markdown",
   "metadata": {},
   "source": [
    "When necessary, the settings of the model run---that was read out of the 'config_{lens_name}.yml' file---can be accessed through the `output.model_settings` variable."
   ]
  },
  {
   "cell_type": "code",
   "execution_count": null,
   "metadata": {},
   "outputs": [],
   "source": [
    "# output.model_settings"
   ]
  }
 ],
 "metadata": {
  "kernelspec": {
   "display_name": "Python 3.9.13 ('base')",
   "language": "python",
   "name": "python3"
  },
  "language_info": {
   "codemirror_mode": {
    "name": "ipython",
    "version": 3
   },
   "file_extension": ".py",
   "mimetype": "text/x-python",
   "name": "python",
   "nbconvert_exporter": "python",
   "pygments_lexer": "ipython3",
   "version": "3.9.13"
  },
  "vscode": {
   "interpreter": {
    "hash": "3865d0cb63030e7f0dc977b947e0361d13ca7b4f5f7c79ba86571fbb87f89e1f"
   }
  }
 },
 "nbformat": 4,
 "nbformat_minor": 4
}
